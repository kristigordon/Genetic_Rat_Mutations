{
 "cells": [
  {
   "cell_type": "code",
   "execution_count": 3,
   "metadata": {},
   "outputs": [],
   "source": [
    "GOAL = 50000\n",
    "NUM_RATS = 20\n",
    "INITIAL_MIN_WT = 200\n",
    "INITIAL_MAX_WT = 600\n",
    "INITIAL_MODE_WT = 300\n",
    "MUTATE_ODDS = 0.01\n",
    "MUTATE_MIN = 0.5\n",
    "MUTATE_MAX = 1.2\n",
    "LITTER_SIZE = 8\n",
    "LITTERS_PER_YEAR = 10\n",
    "GENERATION_LIMIT = 500\n",
    "\n",
    "# ensure even­number of rats for breeding pairs:\n",
    "if NUM_RATS % 2 != 0:\n",
    "    NUM_RATS += 1\n"
   ]
  },
  {
   "cell_type": "code",
   "execution_count": 4,
   "metadata": {},
   "outputs": [],
   "source": [
    "import time\n",
    "import random\n",
    "import statistics "
   ]
  },
  {
   "cell_type": "code",
   "execution_count": 7,
   "metadata": {},
   "outputs": [
    {
     "name": "stdout",
     "output_type": "stream",
     "text": [
      "519.8376953468256\n"
     ]
    }
   ],
   "source": [
    "rat = random.triangular(INITIAL_MIN_WT, INITIAL_MAX_WT, INITIAL_MODE_WT) \n",
    "# STEP 1: Randomly generate a population of solutions.\n",
    "print(rat)"
   ]
  },
  {
   "cell_type": "code",
   "execution_count": 11,
   "metadata": {},
   "outputs": [
    {
     "name": "stdout",
     "output_type": "stream",
     "text": [
      "[319, 484, 364, 310, 299, 244, 439, 320, 260, 315, 524, 304, 224, 340, 293, 313, 439, 424, 465, 318]\n"
     ]
    }
   ],
   "source": [
    "rats = []\n",
    "\n",
    "for i in range(20):\n",
    "    random_weight = random.triangular(INITIAL_MIN_WT, INITIAL_MAX_WT, INITIAL_MODE_WT)\n",
    "    rats.append(int(random_weight))\n",
    "print(rats)"
   ]
  },
  {
   "cell_type": "code",
   "execution_count": 12,
   "metadata": {},
   "outputs": [
    {
     "name": "stdout",
     "output_type": "stream",
     "text": [
      "349.9\n",
      "0.006998\n"
     ]
    }
   ],
   "source": [
    "#STEP 2: Measure the fitness of the population - By taking the average weight and comparing it with \n",
    "#our goal. if avg wt is >= goal, we can stop. \n",
    "\n",
    "average = statistics.mean(rats)\n",
    "marker = average/GOAL\n",
    "print(average)\n",
    "print(marker)"
   ]
  },
  {
   "cell_type": "code",
   "execution_count": 19,
   "metadata": {},
   "outputs": [
    {
     "name": "stdout",
     "output_type": "stream",
     "text": [
      "[200, 224, 244, 260, 293, 299, 304, 310, 313, 315, 318, 319, 320, 340, 364, 424, 439, 439, 465, 484, 524, 600]\n",
      "[200, 224, 244, 260, 293, 299, 304, 310, 313, 315, 318]\n",
      "[319, 320, 340, 364, 424, 439, 439, 465, 484, 524, 600]\n",
      "[224, 244, 260, 293, 299, 304, 310, 313, 315, 318]\n",
      "[320, 340, 364, 424, 439, 439, 465, 484, 524, 600]\n"
     ]
    }
   ],
   "source": [
    "# STEP 3: Select the best solution and discard the rest\n",
    "# Num Rats = 20, we want to keep the population at 20. \n",
    "# If population is > 20, we need to take out extra rats and keep the best ones. \n",
    "# rats.append(200)\n",
    "# rats.append(600)\n",
    "# ^ Used to add those values but every time you run, appends the values again\n",
    "to_retain = 20\n",
    "sorted_rats = sorted(rats)\n",
    "to_retain_by_sex = to_retain // 2\n",
    "# Since we are retaining 20, we want to // 2 to have 10 of each sex.\n",
    "# // double slash is in case there is an odd number, we still get an even answer.\n",
    "members_per_sex = len(rats) // 2\n",
    "females = sorted_rats[:11]\n",
    "males = sorted_rats[11:]\n",
    "females_to_keep = females[-10:]\n",
    "males_to_keep = males[-10:]\n",
    "# -10 in these sorted lists means that we are keep the 10 heaviest rats.\n",
    "print(sorted_rats)\n",
    "print(females)\n",
    "print(males)\n",
    "print(females_to_keep)\n",
    "print(males_to_keep)"
   ]
  },
  {
   "cell_type": "code",
   "execution_count": 28,
   "metadata": {},
   "outputs": [
    {
     "name": "stdout",
     "output_type": "stream",
     "text": [
      "[318, 299, 315, 224, 293, 304, 313, 310, 244, 260]\n",
      "[320, 424, 340, 439, 600, 465, 439, 484, 524, 364]\n",
      "[(318, 320), (299, 424), (315, 340), (224, 439), (293, 600), (304, 465), (313, 439), (310, 484), (244, 524), (260, 364)]\n",
      "[318, 319, 320, 320, 318, 319, 320, 320, 385, 413, 349, 312, 302, 302, 309, 323, 337, 319, 316, 319, 328, 333, 340, 338, 356, 314, 417, 291, 361, 238, 318, 367, 382, 385, 494, 395, 512, 367, 384, 414, 456, 431, 306, 383, 342, 375, 352, 397, 357, 359, 331, 322, 350, 421, 421, 356, 337, 448, 384, 418, 311, 449, 336, 409, 286, 440, 395, 264, 460, 470, 379, 354, 339, 273, 350, 294, 288, 280, 324, 336]\n"
     ]
    }
   ],
   "source": [
    "# STEP 4: Cross over elements in the best solutions to make new solutions\n",
    "# So take the selected females and males that we kept, the heaviest pairs, and use them to\n",
    "# cross over (breed) and make new solutions (children).\n",
    "\n",
    "random.shuffle(females_to_keep)\n",
    "random.shuffle(males_to_keep)\n",
    "print(females_to_keep)\n",
    "print(males_to_keep)\n",
    "\n",
    "children = []\n",
    "litter_size = 8\n",
    "pairs = zip(females_to_keep, males_to_keep)\n",
    "# Zip takes each item from each list and puts them together, in this case it pairs a female\n",
    "# from our list of kept female rats with a male from our list of kept male rats.\n",
    "# This creates a tuple, which is similar to a list but is instead immutable or \n",
    "# unchangable once created.\n",
    "for female, male in zip(females_to_keep, males_to_keep):\n",
    "    for child in range(litter_size):\n",
    "        child = random.randint(female, male)\n",
    "    # randint allows for a random integer to be created that is between the weight of the \n",
    "    # female and male parents, thus creating their child.\n",
    "    # Since we have our females lighter than males, we can go (females, males) since they ascending\n",
    "        children.append(child)\n",
    "    # Now we append the child into the list of children\n",
    "print(list(pairs))\n",
    "print(children)"
   ]
  },
  {
   "cell_type": "code",
   "execution_count": 34,
   "metadata": {},
   "outputs": [
    {
     "name": "stdout",
     "output_type": "stream",
     "text": [
      "0.29172007862188754\n",
      "0.23074903365345023\n",
      "0.6592079873055271\n",
      "0.583289912784931\n",
      "0.5959619087024186\n",
      "0.1901568418324462\n",
      "0.44567805175261166\n",
      "0.06565815106399986\n",
      "0.4296197123110166\n",
      "0.27742780284566304\n",
      "0.4978902398772106\n",
      "0.9201496543934607\n",
      "0.7075208243077078\n",
      "0.7654079362211721\n",
      "0.43800310510192975\n",
      "0.029625865353035685\n",
      "0.6029724134755202\n",
      "0.5767836485375342\n",
      "0.3178336069703469\n",
      "0.7976706814763387\n",
      "0.4927084148841454\n",
      "0.8137024730648956\n",
      "0.6512481847982352\n",
      "0.35950722197212737\n",
      "0.6773327755678445\n",
      "0.7646260938112954\n",
      "0.6959915822150122\n",
      "0.5423316018042611\n",
      "0.7843665435289418\n",
      "0.5235720254136057\n",
      "0.7343381551202728\n",
      "0.7303815378464624\n",
      "0.6569240441122978\n",
      "0.425870500245078\n",
      "0.5772307774347156\n",
      "0.5905721182729177\n",
      "0.934098306586117\n",
      "0.16646055550423478\n",
      "0.9335096291267659\n",
      "0.4890916848680148\n",
      "0.7932310028441745\n",
      "0.9179462578368046\n",
      "0.09111740967633897\n",
      "0.8295734606076679\n",
      "0.5120040040459357\n",
      "0.5234013347980573\n",
      "0.8036527795472461\n",
      "0.9413745377018661\n",
      "0.48250831885405243\n",
      "0.5329124890269311\n",
      "0.17955163188643075\n",
      "0.1878489645911381\n",
      "0.7327942029026692\n",
      "0.8280575284271964\n",
      "0.7515525451118185\n",
      "0.08804357852172418\n",
      "0.29310022825904936\n",
      "0.774684797289349\n",
      "0.9367053845938458\n",
      "0.24973985209824423\n",
      "0.7326553605632323\n",
      "0.5431467042299041\n",
      "0.10484624158815381\n",
      "0.89987976630996\n",
      "0.28364411862066663\n",
      "0.2178479414250748\n",
      "0.2771615347142128\n",
      "0.7135795800775341\n",
      "0.5238365892778297\n",
      "0.7873100584838316\n",
      "0.2700612676174343\n",
      "0.3102844624473673\n",
      "0.07701253339699432\n",
      "0.07363046801666229\n",
      "0.4495512875689227\n",
      "0.8235641380964822\n",
      "0.09201942002522434\n",
      "0.7936066710123235\n",
      "0.8345900197883804\n",
      "0.5078689825902895\n",
      "[318, 319, 320, 320, 318, 319, 320, 320, 385, 413, 349, 312, 302, 302, 309, 323, 337, 319, 316, 319, 328, 333, 340, 338, 356, 314, 417, 291, 361, 238, 318, 367, 382, 385, 494, 395, 512, 367, 384, 414, 456, 431, 306, 383, 342, 375, 352, 397, 357, 359, 331, 322, 350, 421, 421, 356, 337, 448, 384, 418, 311, 449, 336, 409, 286, 440, 395, 264, 460, 470, 379, 354, 339, 273, 350, 294, 288, 280, 324, 336]\n"
     ]
    }
   ],
   "source": [
    "# STEP 5: Mutate a small number of elements in the solutions by changing their value.\n",
    "# The number of elements in the list of children.\n",
    "# enumerate allows you to keep count of the list and change the elements of the list. \n",
    "for index, rat in enumerate(children):\n",
    "    #print(index)\n",
    "    # prints the number of children we created.\n",
    "    #print(rat)\n",
    "    # prints the weights of the rats\n",
    "    # ex: 0, 318, 1, 319... \n",
    "    print(random.random())\n",
    "    # randomly gives a floating point value between 0 and 1.0.\n",
    "    # This goes to the \"Chance of Mutation\"\n",
    "    if MUTATE_ODDS >= random.random():\n",
    "    # MUTATE_ODDS=0.01 Probability of a mutation occurring in a rat\n",
    "    # If the mutate odds are >= the random.random, we are going to mutate the child.\n",
    "        children[index] = round(rat * random.uniform(MUTATE_MIN, MUTATE_MAX))\n",
    "    # round is to roudn the number back to a whole number after multiplying it by the random.uniform\n",
    "    # random.uniform is going to give a random floating point number between the mutate min\n",
    "    # and mutate max in our case. \n",
    "    # MUTATE_MIN=0.5 Scalar on rat weight of least beneficial mutation\n",
    "    # MUTATE_MAX=1.2 Scalar on rat weight of most beneficial mutation\n",
    "print(children)\n",
    "    "
   ]
  },
  {
   "cell_type": "code",
   "execution_count": null,
   "metadata": {},
   "outputs": [],
   "source": [
    "def populate (num_rats, min_wt, max_wt, mode_wt):\n",
    "    return [int(random.triangular(min_wt, max_wt, mode_wt)) for i in range(num_rats)]\n",
    "\n",
    "def fitness(population, goal):\n",
    "# Measure population fitness based on an attribute mean vs target.\n",
    "    ave = statistics.mean(population)\n",
    "    return ave / goal\n",
    "\n",
    "def select(population, to_retain):\n",
    "    # population is the list, so in our example \"rats\"\n",
    "    sorted_population = sorted(population)\n",
    "    # sort the population ascending\n",
    "    to_retain_by_sex = to_retain//2\n",
    "    # out of the 20 we are retaining, we want 10 in each sex\n",
    "    members_per_sex = len(sorted_population)//2\n",
    "    # the sorted population may have more than 20, so we take that length and put half in each sex\n",
    "    females = sorted_population[:members_per_sex]\n",
    "    # take the sorted pop and start at the beginning and take the first half for females\n",
    "    males = sorted_population[members_per_sex:]\n",
    "    # take the sorted pop and start at the halfway point and take the second half for males\n",
    "    selected_females = females[-to_retain_by_sex:]\n",
    "    # since there could more than 20 total rats, we need to ensure the females only have 10.\n",
    "    # -to_retain_by_sex means taking the last 10 out of the sorted list of females,\n",
    "    # so the last 10 in the list would be the 10 heaviest. (Same for males)\n",
    "    selected_males = males[-to_retain_by_sex:]\n",
    "    # and that the males only have 10\n",
    "    return selected_males, selected_females\n",
    "    \n",
    "def breed(males, females, litter_size):\n",
    "\"\"\"Crossover genes among members (weights) of a population.\"\"\"\n",
    "    random.shuffle(males)\n",
    "    random.shuffle(females)\n",
    "    # Shuffle the values\n",
    "    children = []\n",
    "    # Create a list\n",
    "    for male, female in zip(males, females):\n",
    "        #Creating tuples for each pair\n",
    "        for child in range(litter_size):\n",
    "            # Litter size 8\n",
    "            child = random.randint(female, male)\n",
    "            # breed a child between the female and male weights\n",
    "            children.append(child)\n",
    "            # add that child to the list of children\n",
    "    return children\n",
    "\n",
    "def mutate(children, mutate_odds, mutate_min, mutate_max):\n",
    "\"\"\"Randomly alter rat weights using input odds & fractional changes.\"\"\"\n",
    "➋ for index, rat in enumerate(children):\n",
    "if mutate_odds >= random.random():\n",
    "➌ children[index] = round(rat * random.uniform(mutate_min,\n",
    "mutate_max))\n",
    "return children"
   ]
  }
 ],
 "metadata": {
  "kernelspec": {
   "display_name": "Python 3",
   "language": "python",
   "name": "python3"
  },
  "language_info": {
   "codemirror_mode": {
    "name": "ipython",
    "version": 3
   },
   "file_extension": ".py",
   "mimetype": "text/x-python",
   "name": "python",
   "nbconvert_exporter": "python",
   "pygments_lexer": "ipython3",
   "version": "3.8.5"
  }
 },
 "nbformat": 4,
 "nbformat_minor": 4
}
